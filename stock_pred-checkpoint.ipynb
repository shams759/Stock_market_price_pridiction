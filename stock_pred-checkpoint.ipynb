{
 "cells": [
  {
   "cell_type": "markdown",
   "id": "4421a89f",
   "metadata": {},
   "source": [
    "# Stock Market Prediction Using Numerical and Textual Analysis"
   ]
  },
  {
   "cell_type": "markdown",
   "id": "abd1ca11",
   "metadata": {},
   "source": [
    "## Import Libraries"
   ]
  },
  {
   "cell_type": "code",
   "execution_count": 1,
   "id": "fe6b895a",
   "metadata": {},
   "outputs": [],
   "source": [
    "import random\n",
    "import pandas as pd\n",
    "import numpy as np\n",
    "import seaborn as sns\n",
    "import matplotlib.pyplot as plt\n",
    "\n",
    "from textblob import TextBlob\n",
    "from nltk.sentiment.vader import SentimentIntensityAnalyzer\n",
    "\n",
    "from sklearn.preprocessing import MinMaxScaler\n",
    "from sklearn.model_selection import train_test_split ,cross_validate,ShuffleSplit,RandomizedSearchCV\n",
    "from sklearn.tree import DecisionTreeRegressor\n",
    "from sklearn.ensemble import RandomForestRegressor\n",
    "from xgboost import XGBRegressor\n",
    "from sklearn.metrics import mean_squared_error\n",
    "\n",
    "import warnings\n",
    "warnings.filterwarnings('ignore')"
   ]
  },
  {
   "cell_type": "code",
   "execution_count": 2,
   "id": "135fa3c7",
   "metadata": {},
   "outputs": [],
   "source": [
    "random.seed(0)"
   ]
  },
  {
   "cell_type": "markdown",
   "id": "36b9d3b6",
   "metadata": {},
   "source": [
    "# Datasets"
   ]
  },
  {
   "cell_type": "code",
   "execution_count": 3,
   "id": "a42965bc",
   "metadata": {},
   "outputs": [],
   "source": [
    "news=pd.read_csv(\"india-news-headlines.csv\")"
   ]
  },
  {
   "cell_type": "code",
   "execution_count": 4,
   "id": "5acce13a",
   "metadata": {},
   "outputs": [],
   "source": [
    "stock=pd.read_csv(\"stock.csv\")"
   ]
  },
  {
   "cell_type": "code",
   "execution_count": 5,
   "id": "b20c2103",
   "metadata": {},
   "outputs": [
    {
     "data": {
      "text/html": [
       "<div>\n",
       "<style scoped>\n",
       "    .dataframe tbody tr th:only-of-type {\n",
       "        vertical-align: middle;\n",
       "    }\n",
       "\n",
       "    .dataframe tbody tr th {\n",
       "        vertical-align: top;\n",
       "    }\n",
       "\n",
       "    .dataframe thead th {\n",
       "        text-align: right;\n",
       "    }\n",
       "</style>\n",
       "<table border=\"1\" class=\"dataframe\">\n",
       "  <thead>\n",
       "    <tr style=\"text-align: right;\">\n",
       "      <th></th>\n",
       "      <th>publish_date</th>\n",
       "      <th>headline_category</th>\n",
       "      <th>headline_text</th>\n",
       "    </tr>\n",
       "  </thead>\n",
       "  <tbody>\n",
       "    <tr>\n",
       "      <th>0</th>\n",
       "      <td>20010102</td>\n",
       "      <td>unknown</td>\n",
       "      <td>Status quo will not be disturbed at Ayodhya; s...</td>\n",
       "    </tr>\n",
       "    <tr>\n",
       "      <th>1</th>\n",
       "      <td>20010102</td>\n",
       "      <td>unknown</td>\n",
       "      <td>Fissures in Hurriyat over Pak visit</td>\n",
       "    </tr>\n",
       "    <tr>\n",
       "      <th>2</th>\n",
       "      <td>20010102</td>\n",
       "      <td>unknown</td>\n",
       "      <td>America's unwanted heading for India?</td>\n",
       "    </tr>\n",
       "    <tr>\n",
       "      <th>3</th>\n",
       "      <td>20010102</td>\n",
       "      <td>unknown</td>\n",
       "      <td>For bigwigs; it is destination Goa</td>\n",
       "    </tr>\n",
       "    <tr>\n",
       "      <th>4</th>\n",
       "      <td>20010102</td>\n",
       "      <td>unknown</td>\n",
       "      <td>Extra buses to clear tourist traffic</td>\n",
       "    </tr>\n",
       "  </tbody>\n",
       "</table>\n",
       "</div>"
      ],
      "text/plain": [
       "   publish_date headline_category  \\\n",
       "0      20010102           unknown   \n",
       "1      20010102           unknown   \n",
       "2      20010102           unknown   \n",
       "3      20010102           unknown   \n",
       "4      20010102           unknown   \n",
       "\n",
       "                                       headline_text  \n",
       "0  Status quo will not be disturbed at Ayodhya; s...  \n",
       "1                Fissures in Hurriyat over Pak visit  \n",
       "2              America's unwanted heading for India?  \n",
       "3                 For bigwigs; it is destination Goa  \n",
       "4               Extra buses to clear tourist traffic  "
      ]
     },
     "execution_count": 5,
     "metadata": {},
     "output_type": "execute_result"
    }
   ],
   "source": [
    "news.head(5)"
   ]
  },
  {
   "cell_type": "code",
   "execution_count": 6,
   "id": "1741f5e8",
   "metadata": {},
   "outputs": [
    {
     "name": "stdout",
     "output_type": "stream",
     "text": [
      "Shape of News Dataset  (3650970, 3)\n"
     ]
    }
   ],
   "source": [
    "print(\"Shape of News Dataset \",news.shape)"
   ]
  },
  {
   "cell_type": "code",
   "execution_count": 7,
   "id": "e5177c2e",
   "metadata": {},
   "outputs": [
    {
     "data": {
      "text/html": [
       "<div>\n",
       "<style scoped>\n",
       "    .dataframe tbody tr th:only-of-type {\n",
       "        vertical-align: middle;\n",
       "    }\n",
       "\n",
       "    .dataframe tbody tr th {\n",
       "        vertical-align: top;\n",
       "    }\n",
       "\n",
       "    .dataframe thead th {\n",
       "        text-align: right;\n",
       "    }\n",
       "</style>\n",
       "<table border=\"1\" class=\"dataframe\">\n",
       "  <thead>\n",
       "    <tr style=\"text-align: right;\">\n",
       "      <th></th>\n",
       "      <th>Date</th>\n",
       "      <th>Open</th>\n",
       "      <th>High</th>\n",
       "      <th>Low</th>\n",
       "      <th>Close</th>\n",
       "    </tr>\n",
       "  </thead>\n",
       "  <tbody>\n",
       "    <tr>\n",
       "      <th>0</th>\n",
       "      <td>2001-01-01</td>\n",
       "      <td>3990.65</td>\n",
       "      <td>4021.83</td>\n",
       "      <td>3937.33</td>\n",
       "      <td>3955.08</td>\n",
       "    </tr>\n",
       "    <tr>\n",
       "      <th>1</th>\n",
       "      <td>2001-01-02</td>\n",
       "      <td>3953.22</td>\n",
       "      <td>4028.57</td>\n",
       "      <td>3929.37</td>\n",
       "      <td>4018.88</td>\n",
       "    </tr>\n",
       "    <tr>\n",
       "      <th>2</th>\n",
       "      <td>2001-01-03</td>\n",
       "      <td>3977.58</td>\n",
       "      <td>4067.66</td>\n",
       "      <td>3977.58</td>\n",
       "      <td>4060.02</td>\n",
       "    </tr>\n",
       "    <tr>\n",
       "      <th>3</th>\n",
       "      <td>2001-01-04</td>\n",
       "      <td>4180.97</td>\n",
       "      <td>4180.97</td>\n",
       "      <td>4109.55</td>\n",
       "      <td>4115.37</td>\n",
       "    </tr>\n",
       "    <tr>\n",
       "      <th>4</th>\n",
       "      <td>2001-01-05</td>\n",
       "      <td>4116.34</td>\n",
       "      <td>4195.01</td>\n",
       "      <td>4115.35</td>\n",
       "      <td>4183.73</td>\n",
       "    </tr>\n",
       "  </tbody>\n",
       "</table>\n",
       "</div>"
      ],
      "text/plain": [
       "         Date     Open     High      Low    Close\n",
       "0  2001-01-01  3990.65  4021.83  3937.33  3955.08\n",
       "1  2001-01-02  3953.22  4028.57  3929.37  4018.88\n",
       "2  2001-01-03  3977.58  4067.66  3977.58  4060.02\n",
       "3  2001-01-04  4180.97  4180.97  4109.55  4115.37\n",
       "4  2001-01-05  4116.34  4195.01  4115.35  4183.73"
      ]
     },
     "execution_count": 7,
     "metadata": {},
     "output_type": "execute_result"
    }
   ],
   "source": [
    "stock.head(5)"
   ]
  },
  {
   "cell_type": "code",
   "execution_count": 8,
   "id": "320bbdce",
   "metadata": {},
   "outputs": [
    {
     "name": "stdout",
     "output_type": "stream",
     "text": [
      "Shape of Stock Dataset  (5419, 5)\n"
     ]
    }
   ],
   "source": [
    "print(\"Shape of Stock Dataset \",stock.shape)"
   ]
  },
  {
   "cell_type": "markdown",
   "id": "989fc930",
   "metadata": {},
   "source": [
    "# Data Cleaning and Preprocessing"
   ]
  },
  {
   "cell_type": "code",
   "execution_count": 9,
   "id": "f6e52a2e",
   "metadata": {},
   "outputs": [],
   "source": [
    "news[\"publish_date\"] = pd.to_datetime(news['publish_date'],format='%Y%m%d')"
   ]
  },
  {
   "cell_type": "code",
   "execution_count": 10,
   "id": "7b086064",
   "metadata": {},
   "outputs": [
    {
     "data": {
      "text/html": [
       "<div>\n",
       "<style scoped>\n",
       "    .dataframe tbody tr th:only-of-type {\n",
       "        vertical-align: middle;\n",
       "    }\n",
       "\n",
       "    .dataframe tbody tr th {\n",
       "        vertical-align: top;\n",
       "    }\n",
       "\n",
       "    .dataframe thead th {\n",
       "        text-align: right;\n",
       "    }\n",
       "</style>\n",
       "<table border=\"1\" class=\"dataframe\">\n",
       "  <thead>\n",
       "    <tr style=\"text-align: right;\">\n",
       "      <th></th>\n",
       "      <th>publish_date</th>\n",
       "      <th>headline_category</th>\n",
       "      <th>headline_text</th>\n",
       "    </tr>\n",
       "  </thead>\n",
       "  <tbody>\n",
       "    <tr>\n",
       "      <th>0</th>\n",
       "      <td>2001-01-02</td>\n",
       "      <td>unknown</td>\n",
       "      <td>Status quo will not be disturbed at Ayodhya; s...</td>\n",
       "    </tr>\n",
       "    <tr>\n",
       "      <th>1</th>\n",
       "      <td>2001-01-02</td>\n",
       "      <td>unknown</td>\n",
       "      <td>Fissures in Hurriyat over Pak visit</td>\n",
       "    </tr>\n",
       "    <tr>\n",
       "      <th>2</th>\n",
       "      <td>2001-01-02</td>\n",
       "      <td>unknown</td>\n",
       "      <td>America's unwanted heading for India?</td>\n",
       "    </tr>\n",
       "    <tr>\n",
       "      <th>3</th>\n",
       "      <td>2001-01-02</td>\n",
       "      <td>unknown</td>\n",
       "      <td>For bigwigs; it is destination Goa</td>\n",
       "    </tr>\n",
       "    <tr>\n",
       "      <th>4</th>\n",
       "      <td>2001-01-02</td>\n",
       "      <td>unknown</td>\n",
       "      <td>Extra buses to clear tourist traffic</td>\n",
       "    </tr>\n",
       "  </tbody>\n",
       "</table>\n",
       "</div>"
      ],
      "text/plain": [
       "  publish_date headline_category  \\\n",
       "0   2001-01-02           unknown   \n",
       "1   2001-01-02           unknown   \n",
       "2   2001-01-02           unknown   \n",
       "3   2001-01-02           unknown   \n",
       "4   2001-01-02           unknown   \n",
       "\n",
       "                                       headline_text  \n",
       "0  Status quo will not be disturbed at Ayodhya; s...  \n",
       "1                Fissures in Hurriyat over Pak visit  \n",
       "2              America's unwanted heading for India?  \n",
       "3                 For bigwigs; it is destination Goa  \n",
       "4               Extra buses to clear tourist traffic  "
      ]
     },
     "execution_count": 10,
     "metadata": {},
     "output_type": "execute_result"
    }
   ],
   "source": [
    "news.head()"
   ]
  },
  {
   "cell_type": "code",
   "execution_count": 11,
   "id": "677f302e",
   "metadata": {},
   "outputs": [
    {
     "name": "stdout",
     "output_type": "stream",
     "text": [
      "Showing part of the whole dataset:\n"
     ]
    },
    {
     "data": {
      "text/html": [
       "<div>\n",
       "<style scoped>\n",
       "    .dataframe tbody tr th:only-of-type {\n",
       "        vertical-align: middle;\n",
       "    }\n",
       "\n",
       "    .dataframe tbody tr th {\n",
       "        vertical-align: top;\n",
       "    }\n",
       "\n",
       "    .dataframe thead th {\n",
       "        text-align: right;\n",
       "    }\n",
       "</style>\n",
       "<table border=\"1\" class=\"dataframe\">\n",
       "  <thead>\n",
       "    <tr style=\"text-align: right;\">\n",
       "      <th></th>\n",
       "      <th>publish_date</th>\n",
       "      <th>headline_text</th>\n",
       "    </tr>\n",
       "  </thead>\n",
       "  <tbody>\n",
       "    <tr>\n",
       "      <th>0</th>\n",
       "      <td>2001-01-02</td>\n",
       "      <td>Status quo will not be disturbed at Ayodhya; s...</td>\n",
       "    </tr>\n",
       "    <tr>\n",
       "      <th>1</th>\n",
       "      <td>2001-01-02</td>\n",
       "      <td>Fissures in Hurriyat over Pak visit</td>\n",
       "    </tr>\n",
       "    <tr>\n",
       "      <th>2</th>\n",
       "      <td>2001-01-02</td>\n",
       "      <td>America's unwanted heading for India?</td>\n",
       "    </tr>\n",
       "    <tr>\n",
       "      <th>3</th>\n",
       "      <td>2001-01-02</td>\n",
       "      <td>For bigwigs; it is destination Goa</td>\n",
       "    </tr>\n",
       "    <tr>\n",
       "      <th>4</th>\n",
       "      <td>2001-01-02</td>\n",
       "      <td>Extra buses to clear tourist traffic</td>\n",
       "    </tr>\n",
       "    <tr>\n",
       "      <th>...</th>\n",
       "      <td>...</td>\n",
       "      <td>...</td>\n",
       "    </tr>\n",
       "    <tr>\n",
       "      <th>3650960</th>\n",
       "      <td>2022-03-31</td>\n",
       "      <td>Garment industry jittery over'GST hike'</td>\n",
       "    </tr>\n",
       "    <tr>\n",
       "      <th>3650961</th>\n",
       "      <td>2022-03-31</td>\n",
       "      <td>AAP MLAs interfering in work: Councillors</td>\n",
       "    </tr>\n",
       "    <tr>\n",
       "      <th>3650962</th>\n",
       "      <td>2022-03-31</td>\n",
       "      <td>Schools organise vax camps for kids</td>\n",
       "    </tr>\n",
       "    <tr>\n",
       "      <th>3650963</th>\n",
       "      <td>2022-03-31</td>\n",
       "      <td>Madhya Pradesh CM Shivraj Singh Chouhan promis...</td>\n",
       "    </tr>\n",
       "    <tr>\n",
       "      <th>3650964</th>\n",
       "      <td>2022-03-31</td>\n",
       "      <td>bhopal endures first heatwave max temp crosses...</td>\n",
       "    </tr>\n",
       "  </tbody>\n",
       "</table>\n",
       "<p>3650965 rows × 2 columns</p>\n",
       "</div>"
      ],
      "text/plain": [
       "        publish_date                                      headline_text\n",
       "0         2001-01-02  Status quo will not be disturbed at Ayodhya; s...\n",
       "1         2001-01-02                Fissures in Hurriyat over Pak visit\n",
       "2         2001-01-02              America's unwanted heading for India?\n",
       "3         2001-01-02                 For bigwigs; it is destination Goa\n",
       "4         2001-01-02               Extra buses to clear tourist traffic\n",
       "...              ...                                                ...\n",
       "3650960   2022-03-31            Garment industry jittery over'GST hike'\n",
       "3650961   2022-03-31          AAP MLAs interfering in work: Councillors\n",
       "3650962   2022-03-31                Schools organise vax camps for kids\n",
       "3650963   2022-03-31  Madhya Pradesh CM Shivraj Singh Chouhan promis...\n",
       "3650964   2022-03-31  bhopal endures first heatwave max temp crosses...\n",
       "\n",
       "[3650965 rows x 2 columns]"
      ]
     },
     "execution_count": 11,
     "metadata": {},
     "output_type": "execute_result"
    }
   ],
   "source": [
    "news.drop('headline_category', axis = 1,inplace=True)\n",
    "print('Showing part of the whole dataset:')\n",
    "news.head(-5)"
   ]
  },
  {
   "cell_type": "code",
   "execution_count": 12,
   "id": "20f97b96",
   "metadata": {},
   "outputs": [
    {
     "data": {
      "text/html": [
       "<div>\n",
       "<style scoped>\n",
       "    .dataframe tbody tr th:only-of-type {\n",
       "        vertical-align: middle;\n",
       "    }\n",
       "\n",
       "    .dataframe tbody tr th {\n",
       "        vertical-align: top;\n",
       "    }\n",
       "\n",
       "    .dataframe thead th {\n",
       "        text-align: right;\n",
       "    }\n",
       "</style>\n",
       "<table border=\"1\" class=\"dataframe\">\n",
       "  <thead>\n",
       "    <tr style=\"text-align: right;\">\n",
       "      <th></th>\n",
       "      <th>Date</th>\n",
       "      <th>headline_text</th>\n",
       "    </tr>\n",
       "  </thead>\n",
       "  <tbody>\n",
       "    <tr>\n",
       "      <th>0</th>\n",
       "      <td>2001-01-02</td>\n",
       "      <td>Status quo will not be disturbed at Ayodhya; s...</td>\n",
       "    </tr>\n",
       "    <tr>\n",
       "      <th>1</th>\n",
       "      <td>2001-01-03</td>\n",
       "      <td>Powerless north India gropes in the dark Think...</td>\n",
       "    </tr>\n",
       "    <tr>\n",
       "      <th>2</th>\n",
       "      <td>2001-01-04</td>\n",
       "      <td>The string that pulled Stephen Hawking to Indi...</td>\n",
       "    </tr>\n",
       "    <tr>\n",
       "      <th>3</th>\n",
       "      <td>2001-01-05</td>\n",
       "      <td>Light combat craft takes India into club class...</td>\n",
       "    </tr>\n",
       "    <tr>\n",
       "      <th>4</th>\n",
       "      <td>2001-01-06</td>\n",
       "      <td>Light combat craft takes India into club class...</td>\n",
       "    </tr>\n",
       "    <tr>\n",
       "      <th>...</th>\n",
       "      <td>...</td>\n",
       "      <td>...</td>\n",
       "    </tr>\n",
       "    <tr>\n",
       "      <th>7707</th>\n",
       "      <td>2022-03-22</td>\n",
       "      <td>Sikta MLA pleads for police reform Ronit Bose ...</td>\n",
       "    </tr>\n",
       "    <tr>\n",
       "      <th>7708</th>\n",
       "      <td>2022-03-23</td>\n",
       "      <td>Megha Shetty begins a new phase in her career ...</td>\n",
       "    </tr>\n",
       "    <tr>\n",
       "      <th>7709</th>\n",
       "      <td>2022-03-24</td>\n",
       "      <td>This all-woman rap group is claiming their spa...</td>\n",
       "    </tr>\n",
       "    <tr>\n",
       "      <th>7710</th>\n",
       "      <td>2022-03-25</td>\n",
       "      <td>Speeding up; shortcuts and tackling unruly cus...</td>\n",
       "    </tr>\n",
       "    <tr>\n",
       "      <th>7711</th>\n",
       "      <td>2022-03-26</td>\n",
       "      <td>Mumbai celebrates World Theatre Day with speci...</td>\n",
       "    </tr>\n",
       "  </tbody>\n",
       "</table>\n",
       "<p>7712 rows × 2 columns</p>\n",
       "</div>"
      ],
      "text/plain": [
       "           Date                                      headline_text\n",
       "0    2001-01-02  Status quo will not be disturbed at Ayodhya; s...\n",
       "1    2001-01-03  Powerless north India gropes in the dark Think...\n",
       "2    2001-01-04  The string that pulled Stephen Hawking to Indi...\n",
       "3    2001-01-05  Light combat craft takes India into club class...\n",
       "4    2001-01-06  Light combat craft takes India into club class...\n",
       "...         ...                                                ...\n",
       "7707 2022-03-22  Sikta MLA pleads for police reform Ronit Bose ...\n",
       "7708 2022-03-23  Megha Shetty begins a new phase in her career ...\n",
       "7709 2022-03-24  This all-woman rap group is claiming their spa...\n",
       "7710 2022-03-25  Speeding up; shortcuts and tackling unruly cus...\n",
       "7711 2022-03-26  Mumbai celebrates World Theatre Day with speci...\n",
       "\n",
       "[7712 rows x 2 columns]"
      ]
     },
     "execution_count": 12,
     "metadata": {},
     "output_type": "execute_result"
    }
   ],
   "source": [
    "news[\"headline_text\"] = news.groupby([\"publish_date\"]).transform(lambda x : ' '.join(x)) \n",
    "news = news.drop_duplicates() \n",
    "news.reset_index(inplace=True,drop=True)\n",
    "news.rename(columns={\"publish_date\":\"Date\"},inplace = True)\n",
    "news.head(-5)"
   ]
  },
  {
   "cell_type": "code",
   "execution_count": 13,
   "id": "b6d42f01",
   "metadata": {},
   "outputs": [
    {
     "data": {
      "text/plain": [
       "0    Status quo will not be disturbed at Ayodhya  s...\n",
       "1    Powerless north India gropes in the dark Think...\n",
       "2    The string that pulled Stephen Hawking to Indi...\n",
       "3    Light combat craft takes India into club class...\n",
       "4    Light combat craft takes India into club class...\n",
       "Name: headline_text, dtype: object"
      ]
     },
     "execution_count": 13,
     "metadata": {},
     "output_type": "execute_result"
    }
   ],
   "source": [
    "news.replace(\"[^a-zA-Z']\",\" \",regex=True,inplace=True)\n",
    "news[\"headline_text\"].head(5)"
   ]
  },
  {
   "cell_type": "code",
   "execution_count": 14,
   "id": "c48b6ba9",
   "metadata": {},
   "outputs": [],
   "source": [
    "def getSubjectivity(text):\n",
    "  return TextBlob(text).sentiment.subjectivity\n",
    "\n",
    "def getPolarity(text):\n",
    "  return  TextBlob(text).sentiment.polarity"
   ]
  },
  {
   "cell_type": "code",
   "execution_count": 15,
   "id": "bc929637",
   "metadata": {
    "scrolled": true
   },
   "outputs": [
    {
     "name": "stdout",
     "output_type": "stream",
     "text": [
      "(7717, 4)\n"
     ]
    },
    {
     "data": {
      "text/html": [
       "<div>\n",
       "<style scoped>\n",
       "    .dataframe tbody tr th:only-of-type {\n",
       "        vertical-align: middle;\n",
       "    }\n",
       "\n",
       "    .dataframe tbody tr th {\n",
       "        vertical-align: top;\n",
       "    }\n",
       "\n",
       "    .dataframe thead th {\n",
       "        text-align: right;\n",
       "    }\n",
       "</style>\n",
       "<table border=\"1\" class=\"dataframe\">\n",
       "  <thead>\n",
       "    <tr style=\"text-align: right;\">\n",
       "      <th></th>\n",
       "      <th>Date</th>\n",
       "      <th>headline_text</th>\n",
       "      <th>Subjectivity</th>\n",
       "      <th>Polarity</th>\n",
       "    </tr>\n",
       "  </thead>\n",
       "  <tbody>\n",
       "    <tr>\n",
       "      <th>0</th>\n",
       "      <td>2001-01-02</td>\n",
       "      <td>Status quo will not be disturbed at Ayodhya  s...</td>\n",
       "      <td>0.286859</td>\n",
       "      <td>0.143590</td>\n",
       "    </tr>\n",
       "    <tr>\n",
       "      <th>1</th>\n",
       "      <td>2001-01-03</td>\n",
       "      <td>Powerless north India gropes in the dark Think...</td>\n",
       "      <td>0.392857</td>\n",
       "      <td>0.089286</td>\n",
       "    </tr>\n",
       "    <tr>\n",
       "      <th>2</th>\n",
       "      <td>2001-01-04</td>\n",
       "      <td>The string that pulled Stephen Hawking to Indi...</td>\n",
       "      <td>0.445360</td>\n",
       "      <td>0.093039</td>\n",
       "    </tr>\n",
       "    <tr>\n",
       "      <th>3</th>\n",
       "      <td>2001-01-05</td>\n",
       "      <td>Light combat craft takes India into club class...</td>\n",
       "      <td>0.480553</td>\n",
       "      <td>0.264024</td>\n",
       "    </tr>\n",
       "    <tr>\n",
       "      <th>4</th>\n",
       "      <td>2001-01-06</td>\n",
       "      <td>Light combat craft takes India into club class...</td>\n",
       "      <td>0.439394</td>\n",
       "      <td>0.248485</td>\n",
       "    </tr>\n",
       "  </tbody>\n",
       "</table>\n",
       "</div>"
      ],
      "text/plain": [
       "        Date                                      headline_text  Subjectivity  \\\n",
       "0 2001-01-02  Status quo will not be disturbed at Ayodhya  s...      0.286859   \n",
       "1 2001-01-03  Powerless north India gropes in the dark Think...      0.392857   \n",
       "2 2001-01-04  The string that pulled Stephen Hawking to Indi...      0.445360   \n",
       "3 2001-01-05  Light combat craft takes India into club class...      0.480553   \n",
       "4 2001-01-06  Light combat craft takes India into club class...      0.439394   \n",
       "\n",
       "   Polarity  \n",
       "0  0.143590  \n",
       "1  0.089286  \n",
       "2  0.093039  \n",
       "3  0.264024  \n",
       "4  0.248485  "
      ]
     },
     "execution_count": 15,
     "metadata": {},
     "output_type": "execute_result"
    }
   ],
   "source": [
    "news['Subjectivity'] = news[\"headline_text\"].apply(getSubjectivity)\n",
    "news['Polarity'] = news[\"headline_text\"].apply(getPolarity)\n",
    "print(news.shape)\n",
    "news.head(5)\n"
   ]
  },
  {
   "cell_type": "code",
   "execution_count": 16,
   "id": "72c1068c",
   "metadata": {},
   "outputs": [],
   "source": [
    "analyser = SentimentIntensityAnalyzer()"
   ]
  },
  {
   "cell_type": "code",
   "execution_count": 17,
   "id": "de595c2d",
   "metadata": {},
   "outputs": [
    {
     "data": {
      "text/html": [
       "<div>\n",
       "<style scoped>\n",
       "    .dataframe tbody tr th:only-of-type {\n",
       "        vertical-align: middle;\n",
       "    }\n",
       "\n",
       "    .dataframe tbody tr th {\n",
       "        vertical-align: top;\n",
       "    }\n",
       "\n",
       "    .dataframe thead th {\n",
       "        text-align: right;\n",
       "    }\n",
       "</style>\n",
       "<table border=\"1\" class=\"dataframe\">\n",
       "  <thead>\n",
       "    <tr style=\"text-align: right;\">\n",
       "      <th></th>\n",
       "      <th>Date</th>\n",
       "      <th>headline_text</th>\n",
       "      <th>Subjectivity</th>\n",
       "      <th>Polarity</th>\n",
       "      <th>Compound</th>\n",
       "      <th>Negative</th>\n",
       "      <th>Neutral</th>\n",
       "      <th>Positive</th>\n",
       "    </tr>\n",
       "  </thead>\n",
       "  <tbody>\n",
       "    <tr>\n",
       "      <th>0</th>\n",
       "      <td>2001-01-02</td>\n",
       "      <td>Status quo will not be disturbed at Ayodhya  s...</td>\n",
       "      <td>0.286859</td>\n",
       "      <td>0.143590</td>\n",
       "      <td>-0.9792</td>\n",
       "      <td>0.121</td>\n",
       "      <td>0.809</td>\n",
       "      <td>0.071</td>\n",
       "    </tr>\n",
       "    <tr>\n",
       "      <th>1</th>\n",
       "      <td>2001-01-03</td>\n",
       "      <td>Powerless north India gropes in the dark Think...</td>\n",
       "      <td>0.392857</td>\n",
       "      <td>0.089286</td>\n",
       "      <td>-0.8910</td>\n",
       "      <td>0.156</td>\n",
       "      <td>0.735</td>\n",
       "      <td>0.109</td>\n",
       "    </tr>\n",
       "    <tr>\n",
       "      <th>2</th>\n",
       "      <td>2001-01-04</td>\n",
       "      <td>The string that pulled Stephen Hawking to Indi...</td>\n",
       "      <td>0.445360</td>\n",
       "      <td>0.093039</td>\n",
       "      <td>0.7543</td>\n",
       "      <td>0.104</td>\n",
       "      <td>0.792</td>\n",
       "      <td>0.104</td>\n",
       "    </tr>\n",
       "    <tr>\n",
       "      <th>3</th>\n",
       "      <td>2001-01-05</td>\n",
       "      <td>Light combat craft takes India into club class...</td>\n",
       "      <td>0.480553</td>\n",
       "      <td>0.264024</td>\n",
       "      <td>0.9645</td>\n",
       "      <td>0.142</td>\n",
       "      <td>0.694</td>\n",
       "      <td>0.164</td>\n",
       "    </tr>\n",
       "    <tr>\n",
       "      <th>4</th>\n",
       "      <td>2001-01-06</td>\n",
       "      <td>Light combat craft takes India into club class...</td>\n",
       "      <td>0.439394</td>\n",
       "      <td>0.248485</td>\n",
       "      <td>-0.8316</td>\n",
       "      <td>0.214</td>\n",
       "      <td>0.655</td>\n",
       "      <td>0.131</td>\n",
       "    </tr>\n",
       "  </tbody>\n",
       "</table>\n",
       "</div>"
      ],
      "text/plain": [
       "        Date                                      headline_text  Subjectivity  \\\n",
       "0 2001-01-02  Status quo will not be disturbed at Ayodhya  s...      0.286859   \n",
       "1 2001-01-03  Powerless north India gropes in the dark Think...      0.392857   \n",
       "2 2001-01-04  The string that pulled Stephen Hawking to Indi...      0.445360   \n",
       "3 2001-01-05  Light combat craft takes India into club class...      0.480553   \n",
       "4 2001-01-06  Light combat craft takes India into club class...      0.439394   \n",
       "\n",
       "   Polarity  Compound  Negative  Neutral  Positive  \n",
       "0  0.143590   -0.9792     0.121    0.809     0.071  \n",
       "1  0.089286   -0.8910     0.156    0.735     0.109  \n",
       "2  0.093039    0.7543     0.104    0.792     0.104  \n",
       "3  0.264024    0.9645     0.142    0.694     0.164  \n",
       "4  0.248485   -0.8316     0.214    0.655     0.131  "
      ]
     },
     "execution_count": 17,
     "metadata": {},
     "output_type": "execute_result"
    }
   ],
   "source": [
    "news['Compound'] = [analyser.polarity_scores(v)['compound'] for v in news[\"headline_text\"]]\n",
    "news['Negative'] = [analyser.polarity_scores(v)['neg'] for v in news[\"headline_text\"]]\n",
    "news['Neutral'] = [analyser.polarity_scores(v)['neu'] for v in news[\"headline_text\"]]\n",
    "news['Positive'] = [analyser.polarity_scores(v)['pos'] for v in news[\"headline_text\"]]\n",
    "news.head(5)"
   ]
  },
  {
   "cell_type": "code",
   "execution_count": 18,
   "id": "50736678",
   "metadata": {},
   "outputs": [],
   "source": [
    "stock=stock[['Date', 'Open', 'High', 'Low', 'Close']]"
   ]
  },
  {
   "cell_type": "code",
   "execution_count": 19,
   "id": "9d8b8db9",
   "metadata": {},
   "outputs": [
    {
     "data": {
      "text/html": [
       "<div>\n",
       "<style scoped>\n",
       "    .dataframe tbody tr th:only-of-type {\n",
       "        vertical-align: middle;\n",
       "    }\n",
       "\n",
       "    .dataframe tbody tr th {\n",
       "        vertical-align: top;\n",
       "    }\n",
       "\n",
       "    .dataframe thead th {\n",
       "        text-align: right;\n",
       "    }\n",
       "</style>\n",
       "<table border=\"1\" class=\"dataframe\">\n",
       "  <thead>\n",
       "    <tr style=\"text-align: right;\">\n",
       "      <th></th>\n",
       "      <th>Date</th>\n",
       "      <th>Open</th>\n",
       "      <th>High</th>\n",
       "      <th>Low</th>\n",
       "      <th>Close</th>\n",
       "    </tr>\n",
       "  </thead>\n",
       "  <tbody>\n",
       "    <tr>\n",
       "      <th>0</th>\n",
       "      <td>2001-01-01</td>\n",
       "      <td>3990.65</td>\n",
       "      <td>4021.83</td>\n",
       "      <td>3937.33</td>\n",
       "      <td>3955.08</td>\n",
       "    </tr>\n",
       "    <tr>\n",
       "      <th>1</th>\n",
       "      <td>2001-01-02</td>\n",
       "      <td>3953.22</td>\n",
       "      <td>4028.57</td>\n",
       "      <td>3929.37</td>\n",
       "      <td>4018.88</td>\n",
       "    </tr>\n",
       "    <tr>\n",
       "      <th>2</th>\n",
       "      <td>2001-01-03</td>\n",
       "      <td>3977.58</td>\n",
       "      <td>4067.66</td>\n",
       "      <td>3977.58</td>\n",
       "      <td>4060.02</td>\n",
       "    </tr>\n",
       "    <tr>\n",
       "      <th>3</th>\n",
       "      <td>2001-01-04</td>\n",
       "      <td>4180.97</td>\n",
       "      <td>4180.97</td>\n",
       "      <td>4109.55</td>\n",
       "      <td>4115.37</td>\n",
       "    </tr>\n",
       "    <tr>\n",
       "      <th>4</th>\n",
       "      <td>2001-01-05</td>\n",
       "      <td>4116.34</td>\n",
       "      <td>4195.01</td>\n",
       "      <td>4115.35</td>\n",
       "      <td>4183.73</td>\n",
       "    </tr>\n",
       "  </tbody>\n",
       "</table>\n",
       "</div>"
      ],
      "text/plain": [
       "         Date     Open     High      Low    Close\n",
       "0  2001-01-01  3990.65  4021.83  3937.33  3955.08\n",
       "1  2001-01-02  3953.22  4028.57  3929.37  4018.88\n",
       "2  2001-01-03  3977.58  4067.66  3977.58  4060.02\n",
       "3  2001-01-04  4180.97  4180.97  4109.55  4115.37\n",
       "4  2001-01-05  4116.34  4195.01  4115.35  4183.73"
      ]
     },
     "execution_count": 19,
     "metadata": {},
     "output_type": "execute_result"
    }
   ],
   "source": [
    "stock.head(5)"
   ]
  },
  {
   "cell_type": "code",
   "execution_count": 20,
   "id": "e9e0ef34",
   "metadata": {},
   "outputs": [],
   "source": [
    "stock['Date'] = pd.to_datetime(stock['Date'])"
   ]
  },
  {
   "cell_type": "code",
   "execution_count": 21,
   "id": "dc7891dd",
   "metadata": {},
   "outputs": [
    {
     "data": {
      "text/html": [
       "<div>\n",
       "<style scoped>\n",
       "    .dataframe tbody tr th:only-of-type {\n",
       "        vertical-align: middle;\n",
       "    }\n",
       "\n",
       "    .dataframe tbody tr th {\n",
       "        vertical-align: top;\n",
       "    }\n",
       "\n",
       "    .dataframe thead th {\n",
       "        text-align: right;\n",
       "    }\n",
       "</style>\n",
       "<table border=\"1\" class=\"dataframe\">\n",
       "  <thead>\n",
       "    <tr style=\"text-align: right;\">\n",
       "      <th></th>\n",
       "      <th>Date</th>\n",
       "      <th>Open</th>\n",
       "      <th>High</th>\n",
       "      <th>Low</th>\n",
       "      <th>Close</th>\n",
       "      <th>headline_text</th>\n",
       "      <th>Subjectivity</th>\n",
       "      <th>Polarity</th>\n",
       "      <th>Compound</th>\n",
       "      <th>Negative</th>\n",
       "      <th>Neutral</th>\n",
       "      <th>Positive</th>\n",
       "    </tr>\n",
       "  </thead>\n",
       "  <tbody>\n",
       "    <tr>\n",
       "      <th>0</th>\n",
       "      <td>2001-01-02</td>\n",
       "      <td>3953.22</td>\n",
       "      <td>4028.57</td>\n",
       "      <td>3929.37</td>\n",
       "      <td>4018.88</td>\n",
       "      <td>Status quo will not be disturbed at Ayodhya  s...</td>\n",
       "      <td>0.286859</td>\n",
       "      <td>0.143590</td>\n",
       "      <td>-0.9792</td>\n",
       "      <td>0.121</td>\n",
       "      <td>0.809</td>\n",
       "      <td>0.071</td>\n",
       "    </tr>\n",
       "    <tr>\n",
       "      <th>1</th>\n",
       "      <td>2001-01-03</td>\n",
       "      <td>3977.58</td>\n",
       "      <td>4067.66</td>\n",
       "      <td>3977.58</td>\n",
       "      <td>4060.02</td>\n",
       "      <td>Powerless north India gropes in the dark Think...</td>\n",
       "      <td>0.392857</td>\n",
       "      <td>0.089286</td>\n",
       "      <td>-0.8910</td>\n",
       "      <td>0.156</td>\n",
       "      <td>0.735</td>\n",
       "      <td>0.109</td>\n",
       "    </tr>\n",
       "    <tr>\n",
       "      <th>2</th>\n",
       "      <td>2001-01-04</td>\n",
       "      <td>4180.97</td>\n",
       "      <td>4180.97</td>\n",
       "      <td>4109.55</td>\n",
       "      <td>4115.37</td>\n",
       "      <td>The string that pulled Stephen Hawking to Indi...</td>\n",
       "      <td>0.445360</td>\n",
       "      <td>0.093039</td>\n",
       "      <td>0.7543</td>\n",
       "      <td>0.104</td>\n",
       "      <td>0.792</td>\n",
       "      <td>0.104</td>\n",
       "    </tr>\n",
       "    <tr>\n",
       "      <th>3</th>\n",
       "      <td>2001-01-05</td>\n",
       "      <td>4116.34</td>\n",
       "      <td>4195.01</td>\n",
       "      <td>4115.35</td>\n",
       "      <td>4183.73</td>\n",
       "      <td>Light combat craft takes India into club class...</td>\n",
       "      <td>0.480553</td>\n",
       "      <td>0.264024</td>\n",
       "      <td>0.9645</td>\n",
       "      <td>0.142</td>\n",
       "      <td>0.694</td>\n",
       "      <td>0.164</td>\n",
       "    </tr>\n",
       "    <tr>\n",
       "      <th>4</th>\n",
       "      <td>2001-01-08</td>\n",
       "      <td>4164.76</td>\n",
       "      <td>4206.72</td>\n",
       "      <td>4101.53</td>\n",
       "      <td>4120.43</td>\n",
       "      <td>Sangh Parivar  Babri panel up the ante Frontru...</td>\n",
       "      <td>0.400343</td>\n",
       "      <td>-0.011266</td>\n",
       "      <td>-0.9779</td>\n",
       "      <td>0.121</td>\n",
       "      <td>0.813</td>\n",
       "      <td>0.066</td>\n",
       "    </tr>\n",
       "  </tbody>\n",
       "</table>\n",
       "</div>"
      ],
      "text/plain": [
       "        Date     Open     High      Low    Close  \\\n",
       "0 2001-01-02  3953.22  4028.57  3929.37  4018.88   \n",
       "1 2001-01-03  3977.58  4067.66  3977.58  4060.02   \n",
       "2 2001-01-04  4180.97  4180.97  4109.55  4115.37   \n",
       "3 2001-01-05  4116.34  4195.01  4115.35  4183.73   \n",
       "4 2001-01-08  4164.76  4206.72  4101.53  4120.43   \n",
       "\n",
       "                                       headline_text  Subjectivity  Polarity  \\\n",
       "0  Status quo will not be disturbed at Ayodhya  s...      0.286859  0.143590   \n",
       "1  Powerless north India gropes in the dark Think...      0.392857  0.089286   \n",
       "2  The string that pulled Stephen Hawking to Indi...      0.445360  0.093039   \n",
       "3  Light combat craft takes India into club class...      0.480553  0.264024   \n",
       "4  Sangh Parivar  Babri panel up the ante Frontru...      0.400343 -0.011266   \n",
       "\n",
       "   Compound  Negative  Neutral  Positive  \n",
       "0   -0.9792     0.121    0.809     0.071  \n",
       "1   -0.8910     0.156    0.735     0.109  \n",
       "2    0.7543     0.104    0.792     0.104  \n",
       "3    0.9645     0.142    0.694     0.164  \n",
       "4   -0.9779     0.121    0.813     0.066  "
      ]
     },
     "execution_count": 21,
     "metadata": {},
     "output_type": "execute_result"
    }
   ],
   "source": [
    "df_merge = pd.merge(stock, news, how='inner', on='Date')\n",
    "df_merge.head(5)"
   ]
  },
  {
   "cell_type": "code",
   "execution_count": 22,
   "id": "26b6b4c9",
   "metadata": {},
   "outputs": [
    {
     "data": {
      "text/plain": [
       "Date             0\n",
       "Open             0\n",
       "High             0\n",
       "Low              0\n",
       "Close            0\n",
       "headline_text    0\n",
       "Subjectivity     0\n",
       "Polarity         0\n",
       "Compound         0\n",
       "Negative         0\n",
       "Neutral          0\n",
       "Positive         0\n",
       "dtype: int64"
      ]
     },
     "execution_count": 22,
     "metadata": {},
     "output_type": "execute_result"
    }
   ],
   "source": [
    "df_merge.isnull().sum()"
   ]
  },
  {
   "cell_type": "code",
   "execution_count": 35,
   "id": "c8a3cdfd",
   "metadata": {},
   "outputs": [],
   "source": [
    "hybrid_data=df_merge[['Close','Subjectivity', 'Polarity', 'Compound', 'Negative', 'Neutral', 'Positive']]"
   ]
  },
  {
   "cell_type": "code",
   "execution_count": 36,
   "id": "b8bcfb01",
   "metadata": {},
   "outputs": [
    {
     "data": {
      "text/html": [
       "<div>\n",
       "<style scoped>\n",
       "    .dataframe tbody tr th:only-of-type {\n",
       "        vertical-align: middle;\n",
       "    }\n",
       "\n",
       "    .dataframe tbody tr th {\n",
       "        vertical-align: top;\n",
       "    }\n",
       "\n",
       "    .dataframe thead th {\n",
       "        text-align: right;\n",
       "    }\n",
       "</style>\n",
       "<table border=\"1\" class=\"dataframe\">\n",
       "  <thead>\n",
       "    <tr style=\"text-align: right;\">\n",
       "      <th></th>\n",
       "      <th>Close</th>\n",
       "      <th>Subjectivity</th>\n",
       "      <th>Polarity</th>\n",
       "      <th>Compound</th>\n",
       "      <th>Negative</th>\n",
       "      <th>Neutral</th>\n",
       "      <th>Positive</th>\n",
       "    </tr>\n",
       "  </thead>\n",
       "  <tbody>\n",
       "    <tr>\n",
       "      <th>0</th>\n",
       "      <td>4018.88</td>\n",
       "      <td>0.286859</td>\n",
       "      <td>0.143590</td>\n",
       "      <td>-0.9792</td>\n",
       "      <td>0.121</td>\n",
       "      <td>0.809</td>\n",
       "      <td>0.071</td>\n",
       "    </tr>\n",
       "    <tr>\n",
       "      <th>1</th>\n",
       "      <td>4060.02</td>\n",
       "      <td>0.392857</td>\n",
       "      <td>0.089286</td>\n",
       "      <td>-0.8910</td>\n",
       "      <td>0.156</td>\n",
       "      <td>0.735</td>\n",
       "      <td>0.109</td>\n",
       "    </tr>\n",
       "    <tr>\n",
       "      <th>2</th>\n",
       "      <td>4115.37</td>\n",
       "      <td>0.445360</td>\n",
       "      <td>0.093039</td>\n",
       "      <td>0.7543</td>\n",
       "      <td>0.104</td>\n",
       "      <td>0.792</td>\n",
       "      <td>0.104</td>\n",
       "    </tr>\n",
       "    <tr>\n",
       "      <th>3</th>\n",
       "      <td>4183.73</td>\n",
       "      <td>0.480553</td>\n",
       "      <td>0.264024</td>\n",
       "      <td>0.9645</td>\n",
       "      <td>0.142</td>\n",
       "      <td>0.694</td>\n",
       "      <td>0.164</td>\n",
       "    </tr>\n",
       "    <tr>\n",
       "      <th>4</th>\n",
       "      <td>4120.43</td>\n",
       "      <td>0.400343</td>\n",
       "      <td>-0.011266</td>\n",
       "      <td>-0.9779</td>\n",
       "      <td>0.121</td>\n",
       "      <td>0.813</td>\n",
       "      <td>0.066</td>\n",
       "    </tr>\n",
       "  </tbody>\n",
       "</table>\n",
       "</div>"
      ],
      "text/plain": [
       "     Close  Subjectivity  Polarity  Compound  Negative  Neutral  Positive\n",
       "0  4018.88      0.286859  0.143590   -0.9792     0.121    0.809     0.071\n",
       "1  4060.02      0.392857  0.089286   -0.8910     0.156    0.735     0.109\n",
       "2  4115.37      0.445360  0.093039    0.7543     0.104    0.792     0.104\n",
       "3  4183.73      0.480553  0.264024    0.9645     0.142    0.694     0.164\n",
       "4  4120.43      0.400343 -0.011266   -0.9779     0.121    0.813     0.066"
      ]
     },
     "execution_count": 36,
     "metadata": {},
     "output_type": "execute_result"
    }
   ],
   "source": [
    "hybrid_data.head(5)"
   ]
  },
  {
   "cell_type": "markdown",
   "id": "2eb62660",
   "metadata": {},
   "source": [
    "### Final Dataset"
   ]
  },
  {
   "cell_type": "code",
   "execution_count": 37,
   "id": "229e449b",
   "metadata": {},
   "outputs": [],
   "source": [
    "hybrid_data.to_csv(\"hybrid_data.csv\",index=False)"
   ]
  },
  {
   "cell_type": "code",
   "execution_count": 38,
   "id": "39ba01bb",
   "metadata": {},
   "outputs": [],
   "source": [
    "cv=ShuffleSplit(n_splits=5,test_size=0.2,random_state=0)"
   ]
  },
  {
   "cell_type": "code",
   "execution_count": 39,
   "id": "26576550",
   "metadata": {},
   "outputs": [
    {
     "data": {
      "text/plain": [
       "(5255, 7)"
      ]
     },
     "execution_count": 39,
     "metadata": {},
     "output_type": "execute_result"
    }
   ],
   "source": [
    "hybrid_data=pd.read_csv(\"hybrid_data.csv\")\n",
    "hybrid_data.shape"
   ]
  },
  {
   "cell_type": "markdown",
   "id": "46e6206f",
   "metadata": {},
   "source": [
    "# Data Visulization"
   ]
  },
  {
   "cell_type": "code",
   "execution_count": 40,
   "id": "8e71bee1",
   "metadata": {},
   "outputs": [
    {
     "data": {
      "image/png": "[encoded data removed]",
      "text/plain": [
       "<Figure size 1440x720 with 9 Axes>"
      ]
     },
     "metadata": {
      "needs_background": "light"
     },
     "output_type": "display_data"
    }
   ],
   "source": [
    "hybrid_data.hist(figsize=(20,10))\n",
    "plt.show()"
   ]
  },
  {
   "cell_type": "code",
   "execution_count": 74,
   "id": "fa1a2133",
   "metadata": {},
   "outputs": [
    {
     "data": {
      "text/plain": [
       "Text(0.5, 0, 'Time')"
      ]
     },
     "execution_count": 74,
     "metadata": {},
     "output_type": "execute_result"
    },
    {
     "data": {
      "image/png": "[encoded data removed]",
      "text/plain": [
       "<Figure size 1440x720 with 1 Axes>"
      ]
     },
     "metadata": {
      "needs_background": "light"
     },
     "output_type": "display_data"
    }
   ],
   "source": [
    "close = hybrid_data['Close']\n",
    "\n",
    "ma = close.rolling(window = 100).mean()\n",
    "std = close.rolling(window = 100).std()\n",
    "\n",
    "plt.figure(figsize=(20,10))\n",
    "close.plot(color='g',label='Close')\n",
    "ma.plot(color = 'r',label='Rolling Mean')\n",
    "std.plot(label = 'Rolling Standard Deviation')\n",
    "\n",
    "plt.legend()\n",
    "plt.ylabel(\"Closing Prize\")\n",
    "plt.xlabel(\"Time\")"
   ]
  },
  {
   "cell_type": "code",
   "execution_count": 42,
   "id": "312bd4be",
   "metadata": {},
   "outputs": [
    {
     "data": {
      "image/png": "[encoded data removed]",
      "text/plain": [
       "<Figure size 1440x720 with 2 Axes>"
      ]
     },
     "metadata": {
      "needs_background": "light"
     },
     "output_type": "display_data"
    }
   ],
   "source": [
    "plt.figure(figsize=(20,10))\n",
    "corr_matrix=hybrid_data.corr()\n",
    "sns.heatmap(corr_matrix,annot=True)\n",
    "plt.show()"
   ]
  },
  {
   "cell_type": "markdown",
   "id": "fe68109f",
   "metadata": {},
   "source": [
    "# Data Normalising and Summarization"
   ]
  },
  {
   "cell_type": "code",
   "execution_count": 43,
   "id": "4fc3d460",
   "metadata": {},
   "outputs": [
    {
     "data": {
      "text/html": [
       "<div>\n",
       "<style scoped>\n",
       "    .dataframe tbody tr th:only-of-type {\n",
       "        vertical-align: middle;\n",
       "    }\n",
       "\n",
       "    .dataframe tbody tr th {\n",
       "        vertical-align: top;\n",
       "    }\n",
       "\n",
       "    .dataframe thead th {\n",
       "        text-align: right;\n",
       "    }\n",
       "</style>\n",
       "<table border=\"1\" class=\"dataframe\">\n",
       "  <thead>\n",
       "    <tr style=\"text-align: right;\">\n",
       "      <th></th>\n",
       "      <th>Close</th>\n",
       "      <th>Subjectivity</th>\n",
       "      <th>Polarity</th>\n",
       "      <th>Compound</th>\n",
       "      <th>Negative</th>\n",
       "      <th>Neutral</th>\n",
       "      <th>Positive</th>\n",
       "    </tr>\n",
       "  </thead>\n",
       "  <tbody>\n",
       "    <tr>\n",
       "      <th>count</th>\n",
       "      <td>5255.000000</td>\n",
       "      <td>5255.000000</td>\n",
       "      <td>5255.000000</td>\n",
       "      <td>5255.000000</td>\n",
       "      <td>5255.000000</td>\n",
       "      <td>5255.000000</td>\n",
       "      <td>5255.000000</td>\n",
       "    </tr>\n",
       "    <tr>\n",
       "      <th>mean</th>\n",
       "      <td>20801.213878</td>\n",
       "      <td>0.399553</td>\n",
       "      <td>0.067221</td>\n",
       "      <td>-0.914150</td>\n",
       "      <td>0.153419</td>\n",
       "      <td>0.744844</td>\n",
       "      <td>0.101745</td>\n",
       "    </tr>\n",
       "    <tr>\n",
       "      <th>std</th>\n",
       "      <td>13822.419562</td>\n",
       "      <td>0.035266</td>\n",
       "      <td>0.034468</td>\n",
       "      <td>0.369405</td>\n",
       "      <td>0.025624</td>\n",
       "      <td>0.034265</td>\n",
       "      <td>0.021796</td>\n",
       "    </tr>\n",
       "    <tr>\n",
       "      <th>min</th>\n",
       "      <td>2600.120000</td>\n",
       "      <td>0.000000</td>\n",
       "      <td>-0.233333</td>\n",
       "      <td>-1.000000</td>\n",
       "      <td>0.000000</td>\n",
       "      <td>0.000000</td>\n",
       "      <td>0.000000</td>\n",
       "    </tr>\n",
       "    <tr>\n",
       "      <th>25%</th>\n",
       "      <td>9568.430000</td>\n",
       "      <td>0.381541</td>\n",
       "      <td>0.046849</td>\n",
       "      <td>-0.999900</td>\n",
       "      <td>0.139000</td>\n",
       "      <td>0.725000</td>\n",
       "      <td>0.089000</td>\n",
       "    </tr>\n",
       "    <tr>\n",
       "      <th>50%</th>\n",
       "      <td>18226.480000</td>\n",
       "      <td>0.399164</td>\n",
       "      <td>0.065707</td>\n",
       "      <td>-0.999700</td>\n",
       "      <td>0.154000</td>\n",
       "      <td>0.743000</td>\n",
       "      <td>0.101000</td>\n",
       "    </tr>\n",
       "    <tr>\n",
       "      <th>75%</th>\n",
       "      <td>28527.655000</td>\n",
       "      <td>0.417016</td>\n",
       "      <td>0.086028</td>\n",
       "      <td>-0.998100</td>\n",
       "      <td>0.169000</td>\n",
       "      <td>0.763000</td>\n",
       "      <td>0.113000</td>\n",
       "    </tr>\n",
       "    <tr>\n",
       "      <th>max</th>\n",
       "      <td>61765.590000</td>\n",
       "      <td>1.000000</td>\n",
       "      <td>0.500000</td>\n",
       "      <td>0.999900</td>\n",
       "      <td>0.444000</td>\n",
       "      <td>1.000000</td>\n",
       "      <td>0.608000</td>\n",
       "    </tr>\n",
       "  </tbody>\n",
       "</table>\n",
       "</div>"
      ],
      "text/plain": [
       "              Close  Subjectivity     Polarity     Compound     Negative  \\\n",
       "count   5255.000000   5255.000000  5255.000000  5255.000000  5255.000000   \n",
       "mean   20801.213878      0.399553     0.067221    -0.914150     0.153419   \n",
       "std    13822.419562      0.035266     0.034468     0.369405     0.025624   \n",
       "min     2600.120000      0.000000    -0.233333    -1.000000     0.000000   \n",
       "25%     9568.430000      0.381541     0.046849    -0.999900     0.139000   \n",
       "50%    18226.480000      0.399164     0.065707    -0.999700     0.154000   \n",
       "75%    28527.655000      0.417016     0.086028    -0.998100     0.169000   \n",
       "max    61765.590000      1.000000     0.500000     0.999900     0.444000   \n",
       "\n",
       "           Neutral     Positive  \n",
       "count  5255.000000  5255.000000  \n",
       "mean      0.744844     0.101745  \n",
       "std       0.034265     0.021796  \n",
       "min       0.000000     0.000000  \n",
       "25%       0.725000     0.089000  \n",
       "50%       0.743000     0.101000  \n",
       "75%       0.763000     0.113000  \n",
       "max       1.000000     0.608000  "
      ]
     },
     "execution_count": 43,
     "metadata": {},
     "output_type": "execute_result"
    }
   ],
   "source": [
    "hybrid_data.describe()"
   ]
  },
  {
   "cell_type": "code",
   "execution_count": 44,
   "id": "1752923c",
   "metadata": {},
   "outputs": [
    {
     "name": "stdout",
     "output_type": "stream",
     "text": [
      "<class 'pandas.core.frame.DataFrame'>\n",
      "RangeIndex: 5255 entries, 0 to 5254\n",
      "Data columns (total 7 columns):\n",
      " #   Column        Non-Null Count  Dtype  \n",
      "---  ------        --------------  -----  \n",
      " 0   Close         5255 non-null   float64\n",
      " 1   Subjectivity  5255 non-null   float64\n",
      " 2   Polarity      5255 non-null   float64\n",
      " 3   Compound      5255 non-null   float64\n",
      " 4   Negative      5255 non-null   float64\n",
      " 5   Neutral       5255 non-null   float64\n",
      " 6   Positive      5255 non-null   float64\n",
      "dtypes: float64(7)\n",
      "memory usage: 287.5 KB\n"
     ]
    }
   ],
   "source": [
    "hybrid_data.info()"
   ]
  },
  {
   "cell_type": "code",
   "execution_count": 45,
   "id": "b626f4a6",
   "metadata": {},
   "outputs": [],
   "source": [
    "scaling=MinMaxScaler()"
   ]
  },
  {
   "cell_type": "code",
   "execution_count": 46,
   "id": "386b2947",
   "metadata": {},
   "outputs": [
    {
     "data": {
      "text/html": [
       "<div>\n",
       "<style scoped>\n",
       "    .dataframe tbody tr th:only-of-type {\n",
       "        vertical-align: middle;\n",
       "    }\n",
       "\n",
       "    .dataframe tbody tr th {\n",
       "        vertical-align: top;\n",
       "    }\n",
       "\n",
       "    .dataframe thead th {\n",
       "        text-align: right;\n",
       "    }\n",
       "</style>\n",
       "<table border=\"1\" class=\"dataframe\">\n",
       "  <thead>\n",
       "    <tr style=\"text-align: right;\">\n",
       "      <th></th>\n",
       "      <th>Close</th>\n",
       "      <th>Subjectivity</th>\n",
       "      <th>Polarity</th>\n",
       "      <th>Compound</th>\n",
       "      <th>Negative</th>\n",
       "      <th>Neutral</th>\n",
       "      <th>Positive</th>\n",
       "    </tr>\n",
       "  </thead>\n",
       "  <tbody>\n",
       "    <tr>\n",
       "      <th>0</th>\n",
       "      <td>0.023980</td>\n",
       "      <td>0.286859</td>\n",
       "      <td>0.513986</td>\n",
       "      <td>0.010401</td>\n",
       "      <td>0.272523</td>\n",
       "      <td>0.809</td>\n",
       "      <td>0.116776</td>\n",
       "    </tr>\n",
       "    <tr>\n",
       "      <th>1</th>\n",
       "      <td>0.024675</td>\n",
       "      <td>0.392857</td>\n",
       "      <td>0.439935</td>\n",
       "      <td>0.054503</td>\n",
       "      <td>0.351351</td>\n",
       "      <td>0.735</td>\n",
       "      <td>0.179276</td>\n",
       "    </tr>\n",
       "    <tr>\n",
       "      <th>2</th>\n",
       "      <td>0.025610</td>\n",
       "      <td>0.445360</td>\n",
       "      <td>0.445054</td>\n",
       "      <td>0.877194</td>\n",
       "      <td>0.234234</td>\n",
       "      <td>0.792</td>\n",
       "      <td>0.171053</td>\n",
       "    </tr>\n",
       "    <tr>\n",
       "      <th>3</th>\n",
       "      <td>0.026766</td>\n",
       "      <td>0.480553</td>\n",
       "      <td>0.678214</td>\n",
       "      <td>0.982299</td>\n",
       "      <td>0.319820</td>\n",
       "      <td>0.694</td>\n",
       "      <td>0.269737</td>\n",
       "    </tr>\n",
       "    <tr>\n",
       "      <th>4</th>\n",
       "      <td>0.025696</td>\n",
       "      <td>0.400343</td>\n",
       "      <td>0.302819</td>\n",
       "      <td>0.011051</td>\n",
       "      <td>0.272523</td>\n",
       "      <td>0.813</td>\n",
       "      <td>0.108553</td>\n",
       "    </tr>\n",
       "  </tbody>\n",
       "</table>\n",
       "</div>"
      ],
      "text/plain": [
       "      Close  Subjectivity  Polarity  Compound  Negative  Neutral  Positive\n",
       "0  0.023980      0.286859  0.513986  0.010401  0.272523    0.809  0.116776\n",
       "1  0.024675      0.392857  0.439935  0.054503  0.351351    0.735  0.179276\n",
       "2  0.025610      0.445360  0.445054  0.877194  0.234234    0.792  0.171053\n",
       "3  0.026766      0.480553  0.678214  0.982299  0.319820    0.694  0.269737\n",
       "4  0.025696      0.400343  0.302819  0.011051  0.272523    0.813  0.108553"
      ]
     },
     "execution_count": 46,
     "metadata": {},
     "output_type": "execute_result"
    }
   ],
   "source": [
    "df = pd.DataFrame(scaling.fit_transform(hybrid_data))\n",
    "df.columns = hybrid_data.columns\n",
    "df.index = hybrid_data.index\n",
    "df.head()"
   ]
  },
  {
   "cell_type": "code",
   "execution_count": 47,
   "id": "a9bb13b2",
   "metadata": {},
   "outputs": [],
   "source": [
    "feature=df[['Subjectivity', 'Polarity', 'Compound', 'Negative', 'Neutral', 'Positive']]\n",
    "label=df[\"Close\"]"
   ]
  },
  {
   "cell_type": "code",
   "execution_count": 48,
   "id": "3268266b",
   "metadata": {},
   "outputs": [
    {
     "data": {
      "text/html": [
       "<div>\n",
       "<style scoped>\n",
       "    .dataframe tbody tr th:only-of-type {\n",
       "        vertical-align: middle;\n",
       "    }\n",
       "\n",
       "    .dataframe tbody tr th {\n",
       "        vertical-align: top;\n",
       "    }\n",
       "\n",
       "    .dataframe thead th {\n",
       "        text-align: right;\n",
       "    }\n",
       "</style>\n",
       "<table border=\"1\" class=\"dataframe\">\n",
       "  <thead>\n",
       "    <tr style=\"text-align: right;\">\n",
       "      <th></th>\n",
       "      <th>Subjectivity</th>\n",
       "      <th>Polarity</th>\n",
       "      <th>Compound</th>\n",
       "      <th>Negative</th>\n",
       "      <th>Neutral</th>\n",
       "      <th>Positive</th>\n",
       "    </tr>\n",
       "  </thead>\n",
       "  <tbody>\n",
       "    <tr>\n",
       "      <th>0</th>\n",
       "      <td>0.286859</td>\n",
       "      <td>0.513986</td>\n",
       "      <td>0.010401</td>\n",
       "      <td>0.272523</td>\n",
       "      <td>0.809</td>\n",
       "      <td>0.116776</td>\n",
       "    </tr>\n",
       "    <tr>\n",
       "      <th>1</th>\n",
       "      <td>0.392857</td>\n",
       "      <td>0.439935</td>\n",
       "      <td>0.054503</td>\n",
       "      <td>0.351351</td>\n",
       "      <td>0.735</td>\n",
       "      <td>0.179276</td>\n",
       "    </tr>\n",
       "    <tr>\n",
       "      <th>2</th>\n",
       "      <td>0.445360</td>\n",
       "      <td>0.445054</td>\n",
       "      <td>0.877194</td>\n",
       "      <td>0.234234</td>\n",
       "      <td>0.792</td>\n",
       "      <td>0.171053</td>\n",
       "    </tr>\n",
       "    <tr>\n",
       "      <th>3</th>\n",
       "      <td>0.480553</td>\n",
       "      <td>0.678214</td>\n",
       "      <td>0.982299</td>\n",
       "      <td>0.319820</td>\n",
       "      <td>0.694</td>\n",
       "      <td>0.269737</td>\n",
       "    </tr>\n",
       "    <tr>\n",
       "      <th>4</th>\n",
       "      <td>0.400343</td>\n",
       "      <td>0.302819</td>\n",
       "      <td>0.011051</td>\n",
       "      <td>0.272523</td>\n",
       "      <td>0.813</td>\n",
       "      <td>0.108553</td>\n",
       "    </tr>\n",
       "  </tbody>\n",
       "</table>\n",
       "</div>"
      ],
      "text/plain": [
       "   Subjectivity  Polarity  Compound  Negative  Neutral  Positive\n",
       "0      0.286859  0.513986  0.010401  0.272523    0.809  0.116776\n",
       "1      0.392857  0.439935  0.054503  0.351351    0.735  0.179276\n",
       "2      0.445360  0.445054  0.877194  0.234234    0.792  0.171053\n",
       "3      0.480553  0.678214  0.982299  0.319820    0.694  0.269737\n",
       "4      0.400343  0.302819  0.011051  0.272523    0.813  0.108553"
      ]
     },
     "execution_count": 48,
     "metadata": {},
     "output_type": "execute_result"
    }
   ],
   "source": [
    "feature[:5]"
   ]
  },
  {
   "cell_type": "code",
   "execution_count": 49,
   "id": "81558002",
   "metadata": {},
   "outputs": [
    {
     "data": {
      "text/plain": [
       "0    0.023980\n",
       "1    0.024675\n",
       "2    0.025610\n",
       "3    0.026766\n",
       "4    0.025696\n",
       "Name: Close, dtype: float64"
      ]
     },
     "execution_count": 49,
     "metadata": {},
     "output_type": "execute_result"
    }
   ],
   "source": [
    "label.head(5)"
   ]
  },
  {
   "cell_type": "code",
   "execution_count": 50,
   "id": "908ace17",
   "metadata": {},
   "outputs": [],
   "source": [
    "train_fea,test_fea,train_lab,test_lab=train_test_split(feature,label,test_size=0.2,random_state=42)"
   ]
  },
  {
   "cell_type": "markdown",
   "id": "ae8b5d2a",
   "metadata": {},
   "source": [
    "# Regressor Training"
   ]
  },
  {
   "cell_type": "code",
   "execution_count": 51,
   "id": "45bc0ab1",
   "metadata": {},
   "outputs": [],
   "source": [
    "def train_regressor(estimator,train_fea,train_lab,cv):\n",
    "    estimator.fit(train_fea,train_lab)\n",
    "    cross_val_cv=cross_validate(estimator,\n",
    "                                  train_fea,\n",
    "                                  train_lab,\n",
    "                                  cv=cv,scoring='neg_mean_squared_error',\n",
    "                                 return_train_score=True,\n",
    "                                 return_estimator=True)\n",
    "    print('train_score',cross_val_cv['train_score'].mean())\n",
    "    print(cross_val_cv['train_score'])\n",
    "    ind=np.argmax(cross_val_cv['train_score'])\n",
    "    print(\"best_estimator_index\",ind)\n",
    "    best_estimator=cross_val_cv['estimator'][ind]\n",
    "    print(\"best_estimator\",best_estimator)\n",
    "    estimator=best_estimator\n",
    "    estimator.fit(train_fea,train_lab)"
   ]
  },
  {
   "cell_type": "markdown",
   "id": "f05d9d85",
   "metadata": {},
   "source": [
    "# Models"
   ]
  },
  {
   "cell_type": "markdown",
   "id": "bc180cb0",
   "metadata": {},
   "source": [
    "## Decision Tree "
   ]
  },
  {
   "cell_type": "code",
   "execution_count": 52,
   "id": "867e1837",
   "metadata": {},
   "outputs": [
    {
     "data": {
      "text/plain": [
       "DecisionTreeRegressor()"
      ]
     },
     "execution_count": 52,
     "metadata": {},
     "output_type": "execute_result"
    }
   ],
   "source": [
    "dtree_reg=DecisionTreeRegressor()\n",
    "dtree_reg.fit(train_fea,train_lab)"
   ]
  },
  {
   "cell_type": "code",
   "execution_count": 53,
   "id": "f1197b04",
   "metadata": {},
   "outputs": [
    {
     "name": "stdout",
     "output_type": "stream",
     "text": [
      "train score error without optimization 3.3095157414528927e-09\n",
      "test score error without optimization 0.040809087577013\n"
     ]
    }
   ],
   "source": [
    "print(\"train score error without optimization\",mean_squared_error(dtree_reg.predict(train_fea),train_lab))\n",
    "print(\"test score error without optimization\",mean_squared_error(dtree_reg.predict(test_fea),test_lab))"
   ]
  },
  {
   "cell_type": "markdown",
   "id": "eb254ee7",
   "metadata": {},
   "source": [
    "### Decision Tree optimization"
   ]
  },
  {
   "cell_type": "code",
   "execution_count": 54,
   "id": "5539cba5",
   "metadata": {},
   "outputs": [
    {
     "data": {
      "text/plain": [
       "RandomizedSearchCV(estimator=DecisionTreeRegressor(), n_jobs=2,\n",
       "                   param_distributions=[{'max_depth': [1, 2, 3, 4, 5, 6, 7, 8,\n",
       "                                                       9, 10],\n",
       "                                         'min_samples_split': [2, 4, 8, 10, 20,\n",
       "                                                               50, 100, 200]}],\n",
       "                   random_state=42, scoring='neg_mean_squared_error')"
      ]
     },
     "execution_count": 54,
     "metadata": {},
     "output_type": "execute_result"
    }
   ],
   "source": [
    "param1=[{\"max_depth\":[1,2,3,4,5,6,7,8,9,10],\n",
    "        \"min_samples_split\":[2,4,8,10,20,50,100,200]}]\n",
    "search_cv1=RandomizedSearchCV(DecisionTreeRegressor(),\n",
    "                             param_distributions=param1,\n",
    "                             scoring=\"neg_mean_squared_error\",n_iter=10,random_state=42,n_jobs=2)\n",
    "search_cv1.fit(train_fea,train_lab)"
   ]
  },
  {
   "cell_type": "code",
   "execution_count": 55,
   "id": "ffcd93be",
   "metadata": {},
   "outputs": [],
   "source": [
    "best_param1=search_cv1.best_params_"
   ]
  },
  {
   "cell_type": "code",
   "execution_count": 56,
   "id": "facb1ffa",
   "metadata": {},
   "outputs": [
    {
     "name": "stdout",
     "output_type": "stream",
     "text": [
      "train_score -0.018934385699605788\n",
      "[-0.01875997 -0.01906747 -0.01882481 -0.0195584  -0.01846128]\n",
      "best_estimator_index 4\n",
      "best_estimator DecisionTreeRegressor(max_depth=9, min_samples_split=100, random_state=0)\n"
     ]
    }
   ],
   "source": [
    "model1=DecisionTreeRegressor(max_depth=best_param1[\"max_depth\"],\n",
    "                             min_samples_split=best_param1[\"min_samples_split\"],random_state=0)\n",
    "train_regressor(model1,train_fea,train_lab,cv)"
   ]
  },
  {
   "cell_type": "code",
   "execution_count": 57,
   "id": "507089b4",
   "metadata": {},
   "outputs": [
    {
     "name": "stdout",
     "output_type": "stream",
     "text": [
      "train score error with optimization 0.018749623584473546\n",
      "test score error with optimization 0.025456532057211514\n"
     ]
    }
   ],
   "source": [
    "print(\"train score error with optimization\",mean_squared_error(model1.predict(train_fea),train_lab))\n",
    "print(\"test score error with optimization\",mean_squared_error(model1.predict(test_fea),test_lab))"
   ]
  },
  {
   "cell_type": "markdown",
   "id": "73b9d1fa",
   "metadata": {},
   "source": [
    "## Random Forest"
   ]
  },
  {
   "cell_type": "code",
   "execution_count": 58,
   "id": "46df0204",
   "metadata": {},
   "outputs": [
    {
     "data": {
      "text/plain": [
       "RandomForestRegressor()"
      ]
     },
     "execution_count": 58,
     "metadata": {},
     "output_type": "execute_result"
    }
   ],
   "source": [
    "randm_reg=RandomForestRegressor()\n",
    "randm_reg.fit(train_fea,train_lab)"
   ]
  },
  {
   "cell_type": "code",
   "execution_count": 62,
   "id": "064181fe",
   "metadata": {},
   "outputs": [
    {
     "name": "stdout",
     "output_type": "stream",
     "text": [
      "train score error without optimization 0.0029036701797364194\n",
      "test score error without optimization 0.02214185635779464\n"
     ]
    }
   ],
   "source": [
    "print(\"train score error without optimization\",mean_squared_error(randm_reg.predict(train_fea),train_lab))\n",
    "print(\"test score error without optimization\",mean_squared_error(randm_reg.predict(test_fea),test_lab))"
   ]
  },
  {
   "cell_type": "markdown",
   "id": "36ba4bab",
   "metadata": {},
   "source": [
    "### Random Forest optimization"
   ]
  },
  {
   "cell_type": "code",
   "execution_count": 63,
   "id": "799fec2f",
   "metadata": {},
   "outputs": [],
   "source": [
    "param2=[{\"n_estimators\":[10,20,50,100,200,500],\n",
    "    \"max_depth\":[2,4,6,8,10,12,14,16]}]\n",
    "search_cv2=RandomizedSearchCV(RandomForestRegressor(),\n",
    "                             param_distributions=param2,\n",
    "                             scoring='neg_mean_squared_error',n_iter=10,random_state=0,n_jobs=2)"
   ]
  },
  {
   "cell_type": "code",
   "execution_count": 64,
   "id": "30d9ce11",
   "metadata": {},
   "outputs": [
    {
     "data": {
      "text/plain": [
       "RandomizedSearchCV(estimator=RandomForestRegressor(), n_jobs=2,\n",
       "                   param_distributions=[{'max_depth': [2, 4, 6, 8, 10, 12, 14,\n",
       "                                                       16],\n",
       "                                         'n_estimators': [10, 20, 50, 100, 200,\n",
       "                                                          500]}],\n",
       "                   random_state=0, scoring='neg_mean_squared_error')"
      ]
     },
     "execution_count": 64,
     "metadata": {},
     "output_type": "execute_result"
    }
   ],
   "source": [
    "search_cv2.fit(train_fea,train_lab)"
   ]
  },
  {
   "cell_type": "code",
   "execution_count": 65,
   "id": "3040a36d",
   "metadata": {},
   "outputs": [],
   "source": [
    "best_param2=search_cv2.best_params_"
   ]
  },
  {
   "cell_type": "code",
   "execution_count": 66,
   "id": "407ce56d",
   "metadata": {},
   "outputs": [
    {
     "name": "stdout",
     "output_type": "stream",
     "text": [
      "train_score -0.009036297497756899\n",
      "[-0.00912499 -0.00899091 -0.0089257  -0.00899697 -0.00914291]\n",
      "best_estimator_index 2\n",
      "best_estimator RandomForestRegressor(max_depth=10, n_estimators=500, n_jobs=2)\n"
     ]
    }
   ],
   "source": [
    "model2=RandomForestRegressor(n_estimators=best_param2['n_estimators'],\n",
    "                             max_depth=best_param2[\"max_depth\"],n_jobs=2)\n",
    "train_regressor(model2,train_fea,train_lab,cv)"
   ]
  },
  {
   "cell_type": "code",
   "execution_count": 67,
   "id": "26de6f87",
   "metadata": {},
   "outputs": [
    {
     "name": "stdout",
     "output_type": "stream",
     "text": [
      "train score error with optimization 0.009870506887395485\n",
      "train score error with optimization 0.021347591252258026\n"
     ]
    }
   ],
   "source": [
    "print(\"train score error with optimization\",mean_squared_error(model2.predict(train_fea),train_lab))\n",
    "print(\"train score error with optimization\",mean_squared_error(model2.predict(test_fea),test_lab))"
   ]
  },
  {
   "cell_type": "markdown",
   "id": "55a3bc34",
   "metadata": {},
   "source": [
    "## XGBoost"
   ]
  },
  {
   "cell_type": "code",
   "execution_count": 68,
   "id": "e99149d4",
   "metadata": {},
   "outputs": [
    {
     "data": {
      "text/plain": [
       "XGBRegressor(base_score=0.5, booster='gbtree', callbacks=None,\n",
       "             colsample_bylevel=1, colsample_bynode=1, colsample_bytree=1,\n",
       "             early_stopping_rounds=None, enable_categorical=False,\n",
       "             eval_metric=None, gamma=0, gpu_id=-1, grow_policy='depthwise',\n",
       "             importance_type=None, interaction_constraints='',\n",
       "             learning_rate=0.300000012, max_bin=256, max_cat_to_onehot=4,\n",
       "             max_delta_step=0, max_depth=6, max_leaves=0, min_child_weight=1,\n",
       "             missing=nan, monotone_constraints='()', n_estimators=100, n_jobs=0,\n",
       "             num_parallel_tree=1, predictor='auto', random_state=0, reg_alpha=0,\n",
       "             reg_lambda=1, ...)"
      ]
     },
     "execution_count": 68,
     "metadata": {},
     "output_type": "execute_result"
    }
   ],
   "source": [
    "xgb_reg=XGBRegressor()\n",
    "xgb_reg.fit(train_fea,train_lab)"
   ]
  },
  {
   "cell_type": "code",
   "execution_count": 69,
   "id": "1d5bcba0",
   "metadata": {},
   "outputs": [
    {
     "name": "stdout",
     "output_type": "stream",
     "text": [
      "train score error without optimization 0.00409330855108016\n",
      "test score error without optimization 0.024699050108769213\n"
     ]
    }
   ],
   "source": [
    "print(\"train score error without optimization\",mean_squared_error(xgb_reg.predict(train_fea),train_lab))\n",
    "print(\"test score error without optimization\",mean_squared_error(xgb_reg.predict(test_fea),test_lab))"
   ]
  },
  {
   "cell_type": "markdown",
   "id": "e0adb74f",
   "metadata": {},
   "source": [
    "### XGBoost optimization"
   ]
  },
  {
   "cell_type": "code",
   "execution_count": 70,
   "id": "ce2fb38f",
   "metadata": {},
   "outputs": [
    {
     "data": {
      "text/plain": [
       "RandomizedSearchCV(estimator=XGBRegressor(base_score=None, booster=None,\n",
       "                                          callbacks=None,\n",
       "                                          colsample_bylevel=None,\n",
       "                                          colsample_bynode=None,\n",
       "                                          colsample_bytree=None,\n",
       "                                          early_stopping_rounds=None,\n",
       "                                          enable_categorical=False,\n",
       "                                          eval_metric=None, gamma=None,\n",
       "                                          gpu_id=None, grow_policy=None,\n",
       "                                          importance_type=None,\n",
       "                                          interaction_constraints=None,\n",
       "                                          learning_rate=None, max_bin=None,\n",
       "                                          max_ca...\n",
       "                                          max_leaves=None,\n",
       "                                          min_child_weight=None, missing=nan,\n",
       "                                          monotone_constraints=None,\n",
       "                                          n_estimators=100, n_jobs=None,\n",
       "                                          num_parallel_tree=None,\n",
       "                                          predictor=None, random_state=None,\n",
       "                                          reg_alpha=None, reg_lambda=None, ...),\n",
       "                   n_jobs=2,\n",
       "                   param_distributions=[{'max_depth': [2, 4, 6, 7, 8, 10, 12],\n",
       "                                         'n_estimators': [2, 5, 10, 20, 50, 100,\n",
       "                                                          200, 500]}],\n",
       "                   random_state=0, scoring='neg_mean_squared_error')"
      ]
     },
     "execution_count": 70,
     "metadata": {},
     "output_type": "execute_result"
    }
   ],
   "source": [
    "param3=[{\"n_estimators\":[2,5,10,20,50,100,200,500],\n",
    "    \"max_depth\":[2,4,6,7,8,10,12]}]\n",
    "search_cv3=RandomizedSearchCV(XGBRegressor(),\n",
    "                             param_distributions=param3,\n",
    "                             scoring=\"neg_mean_squared_error\",n_iter=10,random_state=0,n_jobs=2)\n",
    "search_cv3.fit(train_fea,train_lab)"
   ]
  },
  {
   "cell_type": "code",
   "execution_count": 71,
   "id": "db1d9e49",
   "metadata": {
    "scrolled": true
   },
   "outputs": [
    {
     "name": "stdout",
     "output_type": "stream",
     "text": [
      "train_score -0.016328890328606693\n",
      "[-0.01616724 -0.01637627 -0.01640265 -0.01654781 -0.01615047]\n",
      "best_estimator_index 4\n",
      "best_estimator XGBRegressor(base_score=0.5, booster='gbtree', callbacks=None,\n",
      "             colsample_bylevel=1, colsample_bynode=1, colsample_bytree=1,\n",
      "             early_stopping_rounds=None, enable_categorical=False,\n",
      "             eval_metric=None, gamma=0, gpu_id=-1, grow_policy='depthwise',\n",
      "             importance_type=None, interaction_constraints='',\n",
      "             learning_rate=0.300000012, max_bin=256, max_cat_to_onehot=4,\n",
      "             max_delta_step=0, max_depth=4, max_leaves=0, min_child_weight=1,\n",
      "             missing=nan, monotone_constraints='()', n_estimators=20, n_jobs=2,\n",
      "             num_parallel_tree=1, predictor='auto', random_state=0, reg_alpha=0,\n",
      "             reg_lambda=1, ...)\n"
     ]
    }
   ],
   "source": [
    "best_param3=search_cv3.best_params_\n",
    "model3=XGBRegressor(n_jobs=2,\n",
    "                        n_estimators=best_param3['n_estimators'],\n",
    "                             max_depth=best_param3['max_depth'],random_state=0)\n",
    "train_regressor(model3,train_fea,train_lab,cv)"
   ]
  },
  {
   "cell_type": "code",
   "execution_count": 72,
   "id": "9d43688c",
   "metadata": {},
   "outputs": [
    {
     "name": "stdout",
     "output_type": "stream",
     "text": [
      "train score error with optimization 0.016834346816807136\n",
      "test score error with optimization 0.021768313785226433\n"
     ]
    }
   ],
   "source": [
    "print(\"train score error with optimization\",mean_squared_error(model3.predict(train_fea),train_lab))\n",
    "print(\"test score error with optimization\",mean_squared_error(model3.predict(test_fea),test_lab))"
   ]
  }
 ],
 "metadata": {
  "kernelspec": {
   "display_name": "Python 3 (ipykernel)",
   "language": "python",
   "name": "python3"
  },
  "language_info": {
   "codemirror_mode": {
    "name": "ipython",
    "version": 3
   },
   "file_extension": ".py",
   "mimetype": "text/x-python",
   "name": "python",
   "nbconvert_exporter": "python",
   "pygments_lexer": "ipython3",
   "version": "3.9.12"
  }
 },
 "nbformat": 4,
 "nbformat_minor": 5
}
